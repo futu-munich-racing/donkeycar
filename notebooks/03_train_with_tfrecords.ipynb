{
 "cells": [
  {
   "cell_type": "code",
   "execution_count": 1,
   "metadata": {},
   "outputs": [
    {
     "name": "stderr",
     "output_type": "stream",
     "text": [
      "/opt/conda/lib/python3.7/site-packages/tensorflow/python/framework/dtypes.py:526: FutureWarning: Passing (type, 1) or '1type' as a synonym of type is deprecated; in a future version of numpy, it will be understood as (type, (1,)) / '(1,)type'.\n",
      "  _np_qint8 = np.dtype([(\"qint8\", np.int8, 1)])\n",
      "/opt/conda/lib/python3.7/site-packages/tensorflow/python/framework/dtypes.py:527: FutureWarning: Passing (type, 1) or '1type' as a synonym of type is deprecated; in a future version of numpy, it will be understood as (type, (1,)) / '(1,)type'.\n",
      "  _np_quint8 = np.dtype([(\"quint8\", np.uint8, 1)])\n",
      "/opt/conda/lib/python3.7/site-packages/tensorflow/python/framework/dtypes.py:528: FutureWarning: Passing (type, 1) or '1type' as a synonym of type is deprecated; in a future version of numpy, it will be understood as (type, (1,)) / '(1,)type'.\n",
      "  _np_qint16 = np.dtype([(\"qint16\", np.int16, 1)])\n",
      "/opt/conda/lib/python3.7/site-packages/tensorflow/python/framework/dtypes.py:529: FutureWarning: Passing (type, 1) or '1type' as a synonym of type is deprecated; in a future version of numpy, it will be understood as (type, (1,)) / '(1,)type'.\n",
      "  _np_quint16 = np.dtype([(\"quint16\", np.uint16, 1)])\n",
      "/opt/conda/lib/python3.7/site-packages/tensorflow/python/framework/dtypes.py:530: FutureWarning: Passing (type, 1) or '1type' as a synonym of type is deprecated; in a future version of numpy, it will be understood as (type, (1,)) / '(1,)type'.\n",
      "  _np_qint32 = np.dtype([(\"qint32\", np.int32, 1)])\n",
      "/opt/conda/lib/python3.7/site-packages/tensorflow/python/framework/dtypes.py:535: FutureWarning: Passing (type, 1) or '1type' as a synonym of type is deprecated; in a future version of numpy, it will be understood as (type, (1,)) / '(1,)type'.\n",
      "  np_resource = np.dtype([(\"resource\", np.ubyte, 1)])\n"
     ]
    }
   ],
   "source": [
    "import tensorflow as tf\n",
    "tf.enable_eager_execution()"
   ]
  },
  {
   "cell_type": "markdown",
   "metadata": {},
   "source": [
    "## Reading the dataset"
   ]
  },
  {
   "cell_type": "code",
   "execution_count": 5,
   "metadata": {},
   "outputs": [],
   "source": [
    "raw_image_dataset = tf.data.TFRecordDataset('data/train.tfrecord')\n",
    "\n",
    "# Create a dictionary describing the features.\n",
    "image_feature_description = {\n",
    "    'image': tf.io.FixedLenFeature([], tf.string),\n",
    "    'angle': tf.io.FixedLenFeature([], tf.float32),\n",
    "    'throttle': tf.io.FixedLenFeature([], tf.float32)\n",
    "}\n",
    "\n",
    "def _parse_image_function(example_proto):\n",
    "  # Parse the input tf.Example proto using the dictionary above.\n",
    "  return tf.io.parse_single_example(example_proto, image_feature_description)\n",
    "\n",
    "parsed_image_dataset = raw_image_dataset.map(_parse_image_function)"
   ]
  },
  {
   "cell_type": "code",
   "execution_count": 54,
   "metadata": {},
   "outputs": [],
   "source": [
    "def decode_jpeg(image_buffer, scope=None):\n",
    "    \"\"\"Decode a JPEG string into one 3-D float image Tensor.\n",
    "    Args:\n",
    "        image_buffer: scalar string Tensor.\n",
    "        scope: Optional scope for name_scope.\n",
    "    Returns:\n",
    "        3-D float Tensor with values ranging from [0, 1).\n",
    "    \"\"\"\n",
    "    with tf.name_scope(values=[image_buffer], name=scope,\n",
    "                       default_name='decode_jpeg'):\n",
    "        # Decode the string as an RGB JPEG.\n",
    "        # Note that the resulting image contains an unknown height\n",
    "        # and width that is set dynamically by decode_jpeg. In other\n",
    "        # words, the height and width of image is unknown at compile-i\n",
    "        # time.\n",
    "        image = tf.image.decode_jpeg(image_buffer, channels=3)\n",
    "\n",
    "        # After this point, all image pixels reside in [0,1)\n",
    "        # until the very end, when they're rescaled to (-1, 1).\n",
    "        # The various adjust_* ops all require this range for dtype\n",
    "        # float.\n",
    "        image = tf.image.convert_image_dtype(image, dtype=tf.float32)\n",
    "        return image\n",
    "\n",
    "def _parse_fn(example_serialized, is_training=False):\n",
    "    \"\"\"Helper function for parse_fn_train() and parse_fn_valid()\n",
    "    Each Example proto (TFRecord) contains the following fields:\n",
    "    image/height: 462\n",
    "    image/width: 581\n",
    "    image/colorspace: 'RGB'\n",
    "    image/channels: 3\n",
    "    image/class/label: 615\n",
    "    image/class/synset: 'n03623198'\n",
    "    image/class/text: 'knee pad'\n",
    "    image/format: 'JPEG'\n",
    "    image/filename: 'ILSVRC2012_val_00041207.JPEG'\n",
    "    image/encoded: <JPEG encoded string>\n",
    "    Args:\n",
    "        example_serialized: scalar Tensor tf.string containing a\n",
    "        serialized Example protocol buffer.\n",
    "    Returns:\n",
    "        image_buffer: Tensor tf.string containing the contents of\n",
    "        a JPEG file.\n",
    "        label: Tensor tf.int32 containing the label.\n",
    "        text: Tensor tf.string containing the human-readable label.\n",
    "    \"\"\"\n",
    "    feature_map = {\n",
    "        'image': tf.FixedLenFeature([], dtype=tf.string, default_value=''),\n",
    "        'angle': tf.FixedLenFeature([], dtype=tf.float32, default_value=0.0),\n",
    "        'throttle': tf.FixedLenFeature([], dtype=tf.float32, default_value=0.0),\n",
    "    }\n",
    "    \n",
    "    parsed = tf.parse_single_example(example_serialized, feature_map)\n",
    "    image = decode_jpeg(parsed['image'])\n",
    "    image = tf.reshape(image, (1, 240, 360, 3))\n",
    "    return (image, (parsed['angle'], parsed['throttle']))"
   ]
  },
  {
   "cell_type": "code",
   "execution_count": 55,
   "metadata": {},
   "outputs": [],
   "source": [
    "def get_dataset(tfrecords_dir, subset, batch_size):\n",
    "    \"\"\"Read TFRecords files and turn them into a TFRecordDataset.\"\"\"\n",
    "    files = tf.matching_files(os.path.join(tfrecords_dir, '%s-*' % subset))\n",
    "    shards = tf.data.Dataset.from_tensor_slices(files)\n",
    "    shards = shards.shuffle(tf.cast(tf.shape(files)[0], tf.int64))\n",
    "    shards = shards.repeat()\n",
    "    dataset = shards.interleave(tf.data.TFRecordDataset, cycle_length=4)\n",
    "    dataset = dataset.shuffle(buffer_size=8192)\n",
    "    parser = partial(\n",
    "        _parse_fn, is_training=True if subset == 'train' else False)\n",
    "    dataset = dataset.apply(\n",
    "        tf.data.experimental.map_and_batch(\n",
    "            map_func=parser,\n",
    "            batch_size=batch_size,\n",
    "            num_parallel_calls=config.NUM_DATA_WORKERS))\n",
    "    dataset = dataset.prefetch(batch_size)\n",
    "    return dataset"
   ]
  },
  {
   "cell_type": "code",
   "execution_count": 56,
   "metadata": {},
   "outputs": [],
   "source": [
    "parsed_image_dataset = raw_image_dataset.map(_parse_fn)"
   ]
  },
  {
   "cell_type": "code",
   "execution_count": 57,
   "metadata": {},
   "outputs": [],
   "source": [
    "from tensorflow.python.keras.layers import Input\n",
    "from tensorflow.python.keras.models import Model, load_model\n",
    "from tensorflow.python.keras.layers import Convolution2D, Convolution3D\n",
    "from tensorflow.python.keras.layers import MaxPooling2D, MaxPooling3D\n",
    "from tensorflow.python.keras.activations import relu\n",
    "from tensorflow.python.keras.layers import Dropout, Flatten, Dense\n",
    "from tensorflow.python.keras.layers import Cropping2D, Cropping3D\n",
    "from tensorflow.python.keras.callbacks import ModelCheckpoint, EarlyStopping"
   ]
  },
  {
   "cell_type": "code",
   "execution_count": 58,
   "metadata": {},
   "outputs": [],
   "source": [
    "weight_loss_angle = 0.9\n",
    "weight_loss_throttle = 0.1"
   ]
  },
  {
   "cell_type": "code",
   "execution_count": 59,
   "metadata": {},
   "outputs": [],
   "source": [
    "def create_2d_model(img_dims, crop_margin_from_top=80):\n",
    "    tf.keras.backend.clear_session()\n",
    "\n",
    "    img_in = Input(shape=(img_dims), name='img_in')\n",
    "\n",
    "    x = img_in\n",
    "\n",
    "    x = Cropping2D(((crop_margin_from_top, 0), (0, 0)))(x)\n",
    "\n",
    "    # Define convolutional neural network to extract features from the images\n",
    "    x = Convolution2D(filters=24, kernel_size=(5, 5), strides=(2, 2), activation='relu')(x)\n",
    "    x = Convolution2D(filters=32, kernel_size=(5, 5), strides=(2, 2), activation='relu')(x)\n",
    "    x = Convolution2D(filters=64, kernel_size=(5, 5), strides=(2, 2), activation='relu')(x)\n",
    "    x = Convolution2D(filters=64, kernel_size=(3, 3), strides=(2, 2), activation='relu')(x)\n",
    "    x = Convolution2D(filters=64, kernel_size=(3, 3), strides=(1, 1), activation='relu')(x)\n",
    "\n",
    "    # Define decision layers to predict steering and throttle\n",
    "    x = Flatten(name='flattened')(x)\n",
    "    x = Dense(units=100, activation='linear')(x)\n",
    "    x = Dropout(rate=.5)(x)\n",
    "    x = Dense(units=50, activation='linear')(x)\n",
    "    x = Dropout(rate=.5)(x)\n",
    "    # categorical output of the angle\n",
    "    angle_out = Dense(units=1, activation='linear', name='angle_out')(x)\n",
    "\n",
    "    # continous output of throttle\n",
    "    throttle_out = Dense(units=1, activation='linear', name='throttle_out')(x)\n",
    "\n",
    "    model = Model(inputs=[img_in], outputs=[angle_out, throttle_out])\n",
    "\n",
    "    model.summary()\n",
    "\n",
    "    model.compile(optimizer='adam',\n",
    "                loss={'angle_out': 'mean_squared_error',\n",
    "                      'throttle_out': 'mean_squared_error'},\n",
    "                loss_weights={'angle_out': weight_loss_angle,\n",
    "                              'throttle_out': weight_loss_throttle},\n",
    "                metrics=['mse', 'mae', 'mape'])\n",
    "\n",
    "    return model"
   ]
  },
  {
   "cell_type": "code",
   "execution_count": 60,
   "metadata": {},
   "outputs": [
    {
     "name": "stdout",
     "output_type": "stream",
     "text": [
      "__________________________________________________________________________________________________\n",
      "Layer (type)                    Output Shape         Param #     Connected to                     \n",
      "==================================================================================================\n",
      "img_in (InputLayer)             (None, 240, 360, 3)  0                                            \n",
      "__________________________________________________________________________________________________\n",
      "cropping2d (Cropping2D)         (None, 160, 360, 3)  0           img_in[0][0]                     \n",
      "__________________________________________________________________________________________________\n",
      "conv2d (Conv2D)                 (None, 78, 178, 24)  1824        cropping2d[0][0]                 \n",
      "__________________________________________________________________________________________________\n",
      "conv2d_1 (Conv2D)               (None, 37, 87, 32)   19232       conv2d[0][0]                     \n",
      "__________________________________________________________________________________________________\n",
      "conv2d_2 (Conv2D)               (None, 17, 42, 64)   51264       conv2d_1[0][0]                   \n",
      "__________________________________________________________________________________________________\n",
      "conv2d_3 (Conv2D)               (None, 8, 20, 64)    36928       conv2d_2[0][0]                   \n",
      "__________________________________________________________________________________________________\n",
      "conv2d_4 (Conv2D)               (None, 6, 18, 64)    36928       conv2d_3[0][0]                   \n",
      "__________________________________________________________________________________________________\n",
      "flattened (Flatten)             (None, 6912)         0           conv2d_4[0][0]                   \n",
      "__________________________________________________________________________________________________\n",
      "dense (Dense)                   (None, 100)          691300      flattened[0][0]                  \n",
      "__________________________________________________________________________________________________\n",
      "dropout (Dropout)               (None, 100)          0           dense[0][0]                      \n",
      "__________________________________________________________________________________________________\n",
      "dense_1 (Dense)                 (None, 50)           5050        dropout[0][0]                    \n",
      "__________________________________________________________________________________________________\n",
      "dropout_1 (Dropout)             (None, 50)           0           dense_1[0][0]                    \n",
      "__________________________________________________________________________________________________\n",
      "angle_out (Dense)               (None, 1)            51          dropout_1[0][0]                  \n",
      "__________________________________________________________________________________________________\n",
      "throttle_out (Dense)            (None, 1)            51          dropout_1[0][0]                  \n",
      "==================================================================================================\n",
      "Total params: 842,628\n",
      "Trainable params: 842,628\n",
      "Non-trainable params: 0\n",
      "__________________________________________________________________________________________________\n"
     ]
    }
   ],
   "source": [
    "model = create_2d_model(img_dims=[240, 360, 3])"
   ]
  },
  {
   "cell_type": "code",
   "execution_count": 61,
   "metadata": {},
   "outputs": [
    {
     "name": "stdout",
     "output_type": "stream",
     "text": [
      "WARNING:tensorflow:From /opt/conda/lib/python3.7/site-packages/tensorflow/python/ops/math_ops.py:3066: to_int32 (from tensorflow.python.ops.math_ops) is deprecated and will be removed in a future version.\n",
      "Instructions for updating:\n",
      "Use tf.cast instead.\n",
      "128/128 [==============================] - 9s 67ms/step - loss: 0.0375 - angle_out_loss: 0.0393 - throttle_out_loss: 0.0208 - angle_out_mean_squared_error: 0.0393 - angle_out_mean_absolute_error: 0.0762 - angle_out_mean_absolute_percentage_error: 42595612.0000 - throttle_out_mean_squared_error: 0.0208 - throttle_out_mean_absolute_error: 0.1052 - throttle_out_mean_absolute_percentage_error: 143917.3125\n"
     ]
    },
    {
     "data": {
      "text/plain": [
       "<tensorflow.python.keras.callbacks.History at 0x7fb45d234198>"
      ]
     },
     "execution_count": 61,
     "metadata": {},
     "output_type": "execute_result"
    }
   ],
   "source": [
    "model.fit(parsed_image_dataset, steps_per_epoch=128)"
   ]
  },
  {
   "cell_type": "code",
   "execution_count": null,
   "metadata": {},
   "outputs": [],
   "source": []
  },
  {
   "cell_type": "code",
   "execution_count": null,
   "metadata": {},
   "outputs": [],
   "source": []
  }
 ],
 "metadata": {
  "kernelspec": {
   "display_name": "Python 3",
   "language": "python",
   "name": "python3"
  },
  "language_info": {
   "codemirror_mode": {
    "name": "ipython",
    "version": 3
   },
   "file_extension": ".py",
   "mimetype": "text/x-python",
   "name": "python",
   "nbconvert_exporter": "python",
   "pygments_lexer": "ipython3",
   "version": "3.7.3"
  }
 },
 "nbformat": 4,
 "nbformat_minor": 2
}
